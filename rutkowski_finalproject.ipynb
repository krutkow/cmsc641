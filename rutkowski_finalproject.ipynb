{
 "cells": [
  {
   "cell_type": "markdown",
   "metadata": {},
   "source": [
    "# ASCL - Astrophysics Source Code Library"
   ]
  },
  {
   "cell_type": "markdown",
   "metadata": {},
   "source": [
    "\"Software is the most used instrument in astronomy\"\n",
    "\n",
    "-- Alice Allen, ASCL"
   ]
  },
  {
   "cell_type": "code",
   "execution_count": 2,
   "metadata": {},
   "outputs": [],
   "source": [
    "# import necessary libs\n",
    "import requests \n",
    "import urllib.request, json "
   ]
  },
  {
   "cell_type": "code",
   "execution_count": 4,
   "metadata": {},
   "outputs": [
    {
     "data": {
      "text/plain": [
       "{'1': {'ascl_id': '9903.001',\n",
       "  'title': 'LENSKY: Galactic Microlensing Probability',\n",
       "  'credit': 'Nemiroff, Robert J.',\n",
       "  'abstract': 'Given a model for the Galaxy, this program computes the microlensing rate in any direction. Program features include the ability to include the brightness of the lens and to compute the probability of lens detection at any level of lensing amplification. The program limits itself to lensing by single stars of single sources. The program is currently setup to accept input from the Galactic models of Bahcall and Soniera (1982, 1986).\\n\\nThere are three files needed for LENSKY, the Fortran file lensky.for and two input files: galmod.dsk (15 Megs) and galmod.sph (22 Megs). The zip file available below contains all three files. The program generates output to the file lensky.out. The program is pretty self-explanatory past that.',\n",
       "  'topic_id': '20392',\n",
       "  'bibcode': '1999ascl.soft03001N',\n",
       "  'views': '2033',\n",
       "  'preferred_citation': '',\n",
       "  'site_list': ['http://dx.doi.org/10.20356/C4WC7Q'],\n",
       "  'ref_list': ['http://adsabs.harvard.edu/abs/1998ApJ...509...39N']},\n",
       " '2': {'ascl_id': '9904.001',\n",
       "  'title': 'BSGMODEL: The Bahcall-Soneira Galaxy Model',\n",
       "  'credit': 'Bahcall, John N.',\n",
       "  'abstract': 'BSGMODEL is used to construct the disk and spheroid components of the Galaxy from which the distribution of visible stars and mass in the Galaxy is calculated. The computer files accessible here are available for export use. The modifications are described in comment lines in the software. The Galaxy model software has been installed and used by different people for a large variety of purposes (see, e. g., the the review \"Star Counts and Galactic Structure\\'\\', Ann. Rev. Astron. Ap. 24, 577, 1986 ).',\n",
       "  'topic_id': '29378',\n",
       "  'bibcode': '1999ascl.soft04001B',\n",
       "  'views': '2211',\n",
       "  'preferred_citation': '',\n",
       "  'site_list': ['http://dx.doi.org/10.20356/C4RP4F'],\n",
       "  'ref_list': ['http://adsabs.harvard.edu/abs/1980ApJS...44...73B']},\n",
       " '3': {'ascl_id': '9905.001',\n",
       "  'title': 'CONSKY: A Sky CCD Integration Simulation',\n",
       "  'credit': 'Nemiroff, Robert J.; Rafert, J. Bruce',\n",
       "  'abstract': 'This program addresses the question of what resources are needed to produce a continuous data record of the entire sky down to a given limiting visual magnitude. Toward this end, the program simulates a small camera/telescope or group of small camera/telescopes collecting light from a large portion of the sky. From a given stellar density derived from a Bahcall - Soneira Galaxy model, the program first converts star densities at visual magnitudes between 5 and 20 to number of sky pixels needed to monitor each star simultaneously. From pixels, the program converts input CCD parameters to needed telescope attributes, needed data storage space, and the length of time needed to accumulate data of photometric quality for stars of each limiting visual magnitude over the whole sky. The program steps though photometric integrations one second at a time and includes the contribution from a bright background, read noise, dark current, and atmospheric absorption.',\n",
       "  'topic_id': '20404',\n",
       "  'bibcode': '1999ascl.soft05001N',\n",
       "  'views': '1823',\n",
       "  'preferred_citation': '',\n",
       "  'site_list': ['http://dx.doi.org/10.20356/C4MW2H'],\n",
       "  'ref_list': ['http://adsabs.harvard.edu/abs/1999PASP..111..886N']}}"
      ]
     },
     "execution_count": 4,
     "metadata": {},
     "output_type": "execute_result"
    }
   ],
   "source": [
    "with urllib.request.urlopen(\"http://ascl.net/code/json\") as url:\n",
    "    ascl_data = json.loads(url.read().decode())\n",
    "    #print(data)\n",
    "\n",
    "# +++ for testing, just grab the first 3\n",
    "ascl_data = {k: ascl_data[k] for k in ('1', '2', '3')}\n",
    "\n",
    "ascl_data"
   ]
  },
  {
   "cell_type": "code",
   "execution_count": 19,
   "metadata": {},
   "outputs": [
    {
     "name": "stdout",
     "output_type": "stream",
     "text": [
      "http://adsabs.harvard.edu/abs/1998ApJ...509...39N\n"
     ]
    }
   ],
   "source": [
    "list_refs = ascl_data['1']['ref_list']\n",
    "list_refs\n",
    "\n",
    "\n",
    "for ref in list_refs:\n",
    "  print(list_refs[0]) "
   ]
  },
  {
   "cell_type": "code",
   "execution_count": null,
   "metadata": {},
   "outputs": [],
   "source": []
  },
  {
   "cell_type": "code",
   "execution_count": 10,
   "metadata": {},
   "outputs": [],
   "source": [
    "# create a dict data structure to hold the keywords\n",
    "ascl_keywords_dict = {}"
   ]
  },
  {
   "cell_type": "code",
   "execution_count": 14,
   "metadata": {},
   "outputs": [
    {
     "data": {
      "text/plain": [
       "{'9903.001': ['http://adsabs.harvard.edu/abs/1998ApJ...509...39N']}"
      ]
     },
     "execution_count": 14,
     "metadata": {},
     "output_type": "execute_result"
    }
   ],
   "source": [
    "ascl_keywords_dict[ascl_data['1']['ascl_id']] = ascl_data['1']['ref_list']\n",
    "ascl_keywords_dict"
   ]
  },
  {
   "cell_type": "code",
   "execution_count": 34,
   "metadata": {},
   "outputs": [],
   "source": [
    "ref_url = ascl_data['1']['ref_list'][0]\n",
    "ref_page = requests.get(ref_url)\n",
    "if ref_page.status_code != 200:\n",
    "    print(\"URL did not work for ASCL ID\", ascl_data['1']['ascl_id'], ref_url)"
   ]
  },
  {
   "cell_type": "code",
   "execution_count": 31,
   "metadata": {},
   "outputs": [
    {
     "data": {
      "text/plain": [
       "'http://adsabs.harvard.edu/abs/1998ApJ...509...39N'"
      ]
     },
     "execution_count": 31,
     "metadata": {},
     "output_type": "execute_result"
    }
   ],
   "source": [
    "ascl_data['1']['ref_list'][0]"
   ]
  },
  {
   "cell_type": "code",
   "execution_count": null,
   "metadata": {},
   "outputs": [],
   "source": []
  }
 ],
 "metadata": {
  "kernelspec": {
   "display_name": "Python 3",
   "language": "python",
   "name": "python3"
  },
  "language_info": {
   "codemirror_mode": {
    "name": "ipython",
    "version": 3
   },
   "file_extension": ".py",
   "mimetype": "text/x-python",
   "name": "python",
   "nbconvert_exporter": "python",
   "pygments_lexer": "ipython3",
   "version": "3.6.3"
  }
 },
 "nbformat": 4,
 "nbformat_minor": 2
}
